{
 "cells": [
  {
   "cell_type": "code",
   "execution_count": 1,
   "metadata": {
    "_cell_guid": "b1076dfc-b9ad-4769-8c92-a6c4dae69d19",
    "_uuid": "8f2839f25d086af736a60e9eeb907d3b93b6e0e5"
   },
   "outputs": [
    {
     "name": "stdout",
     "output_type": "stream",
     "text": [
      "/kaggle/input/Kannada-MNIST/sample_submission.csv\n",
      "/kaggle/input/Kannada-MNIST/test.csv\n",
      "/kaggle/input/Kannada-MNIST/Dig-MNIST.csv\n",
      "/kaggle/input/Kannada-MNIST/train.csv\n"
     ]
    }
   ],
   "source": [
    "# This Python 3 environment comes with many helpful analytics libraries installed\n",
    "# It is defined by the kaggle/python docker image: https://github.com/kaggle/docker-python\n",
    "# For example, here's several helpful packages to load in \n",
    "\n",
    "import numpy as np # linear algebra\n",
    "import pandas as pd # data processing, CSV file I/O (e.g. pd.read_csv)\n",
    "\n",
    "# Input data files are available in the \"../input/\" directory.\n",
    "# For example, running this (by clicking run or pressing Shift+Enter) will list all files under the input directory\n",
    "\n",
    "import os\n",
    "for dirname, _, filenames in os.walk('/kaggle/input'):\n",
    "    for filename in filenames:\n",
    "        print(os.path.join(dirname, filename))\n",
    "\n",
    "# Any results you write to the current directory are saved as output."
   ]
  },
  {
   "cell_type": "code",
   "execution_count": 2,
   "metadata": {
    "_cell_guid": "79c7e3d0-c299-4dcb-8224-4455121ee9b0",
    "_uuid": "d629ff2d2480ee46fbb7e2d37f6b5fab8052498a"
   },
   "outputs": [
    {
     "name": "stderr",
     "output_type": "stream",
     "text": [
      "Using TensorFlow backend.\n"
     ]
    }
   ],
   "source": [
    "import pandas as pd\n",
    "import numpy as  np\n",
    "import matplotlib.pyplot as plt\n",
    "import seaborn as sns\n",
    "\n",
    "\n",
    "\n",
    "from sklearn.model_selection import train_test_split\n",
    "from sklearn.metrics import confusion_matrix\n",
    "\n",
    "from keras.utils.np_utils import to_categorical\n",
    "from keras.preprocessing.image import ImageDataGenerator\n",
    "from keras.models import Sequential\n",
    "from keras.layers import Dense,Conv2D,Flatten,MaxPool2D,Dropout,BatchNormalization\n",
    "from keras.optimizers import RMSprop,Adam\n",
    "from keras.callbacks import ReduceLROnPlateau"
   ]
  },
  {
   "cell_type": "code",
   "execution_count": 3,
   "metadata": {},
   "outputs": [],
   "source": [
    "train = pd.read_csv('../input/Kannada-MNIST/train.csv')\n",
    "test = pd.read_csv('../input/Kannada-MNIST/test.csv')\n",
    "submission = pd.read_csv('../input/Kannada-MNIST/sample_submission.csv')"
   ]
  },
  {
   "cell_type": "code",
   "execution_count": 4,
   "metadata": {},
   "outputs": [],
   "source": [
    "X_train = train.drop(['label'], axis=1)\n",
    "Y_train = train['label']\n",
    "X_submit = test.drop('id', axis=1)"
   ]
  },
  {
   "cell_type": "code",
   "execution_count": 5,
   "metadata": {},
   "outputs": [],
   "source": [
    "X_train /= 255.0\n",
    "X_submit /= 255.0\n",
    "\n",
    "X_train = X_train.values.reshape(-1, 28, 28, 1)\n",
    "X_submit = X_submit.values.reshape(-1, 28, 28, 1)"
   ]
  },
  {
   "cell_type": "code",
   "execution_count": 6,
   "metadata": {},
   "outputs": [],
   "source": [
    "Y_train = to_categorical(Y_train)"
   ]
  },
  {
   "cell_type": "code",
   "execution_count": 7,
   "metadata": {},
   "outputs": [
    {
     "data": {
      "text/plain": [
       "<matplotlib.image.AxesImage at 0x7fe12e5ccbe0>"
      ]
     },
     "execution_count": 7,
     "metadata": {},
     "output_type": "execute_result"
    },
    {
     "data": {
      "image/png": "[encoded data removed]",
      "text/plain": [
       "<Figure size 432x288 with 1 Axes>"
      ]
     },
     "metadata": {
      "needs_background": "light"
     },
     "output_type": "display_data"
    }
   ],
   "source": [
    "X_train, X_test, Y_train, Y_test = train_test_split(X_train, Y_train, test_size=0.2)\n",
    "plt.imshow(X_train[0][:,:,0])"
   ]
  },
  {
   "cell_type": "code",
   "execution_count": 8,
   "metadata": {},
   "outputs": [],
   "source": [
    "datagen = ImageDataGenerator(\n",
    "        featurewise_center=False,  # set input mean to 0 over the dataset\n",
    "        samplewise_center=False,  # set each sample mean to 0\n",
    "        featurewise_std_normalization=False,  # divide inputs by std of the dataset\n",
    "        samplewise_std_normalization=False,  # divide each input by its std\n",
    "        zca_whitening=False,  # apply ZCA whitening\n",
    "        rotation_range=10,  # randomly rotate images in the range (degrees, 0 to 180)\n",
    "        zoom_range = 0.1, # Randomly zoom image \n",
    "        width_shift_range=0.1,  # randomly shift images horizontally (fraction of total width)\n",
    "        height_shift_range=0.1,  # randomly shift images vertically (fraction of total height)\n",
    "        horizontal_flip=False,  # randomly flip images\n",
    "        vertical_flip=False)  # randomly flip images\n",
    "\n",
    "\n",
    "datagen.fit(X_train)"
   ]
  },
  {
   "cell_type": "code",
   "execution_count": 9,
   "metadata": {},
   "outputs": [
    {
     "name": "stdout",
     "output_type": "stream",
     "text": [
      "(48000, 28, 28, 1)\n"
     ]
    }
   ],
   "source": [
    "print(X_train.shape)"
   ]
  },
  {
   "cell_type": "code",
   "execution_count": 10,
   "metadata": {},
   "outputs": [
    {
     "name": "stdout",
     "output_type": "stream",
     "text": [
      "Model: \"sequential_1\"\n",
      "_________________________________________________________________\n",
      "Layer (type)                 Output Shape              Param #   \n",
      "=================================================================\n",
      "conv2d_1 (Conv2D)            (None, 24, 24, 32)        832       \n",
      "_________________________________________________________________\n",
      "conv2d_2 (Conv2D)            (None, 22, 22, 64)        18496     \n",
      "_________________________________________________________________\n",
      "batch_normalization_1 (Batch (None, 22, 22, 64)        256       \n",
      "_________________________________________________________________\n",
      "max_pooling2d_1 (MaxPooling2 (None, 11, 11, 64)        0         \n",
      "_________________________________________________________________\n",
      "dropout_1 (Dropout)          (None, 11, 11, 64)        0         \n",
      "_________________________________________________________________\n",
      "flatten_1 (Flatten)          (None, 7744)              0         \n",
      "_________________________________________________________________\n",
      "dense_1 (Dense)              (None, 128)               991360    \n",
      "_________________________________________________________________\n",
      "dropout_2 (Dropout)          (None, 128)               0         \n",
      "_________________________________________________________________\n",
      "dense_2 (Dense)              (None, 10)                1290      \n",
      "=================================================================\n",
      "Total params: 1,012,234\n",
      "Trainable params: 1,012,106\n",
      "Non-trainable params: 128\n",
      "_________________________________________________________________\n"
     ]
    }
   ],
   "source": [
    "model = Sequential()\n",
    "\n",
    "model.add(Conv2D(filters=32, kernel_size=(5, 5), activation='relu', input_shape=((28, 28, 1)) ))\n",
    "model.add(Conv2D(filters=64, kernel_size=(3, 3), activation='relu'))\n",
    "\n",
    "model.add(BatchNormalization(momentum=0.15))\n",
    "model.add(MaxPool2D(pool_size=(2, 2)))\n",
    "model.add(Dropout(0.25))\n",
    "\n",
    "model.add(Flatten())\n",
    "\n",
    "model.add(Dense(128, activation='relu'))\n",
    "model.add(Dropout(0.5))\n",
    "\n",
    "model.add(Dense(10, activation='softmax'))\n",
    "\n",
    "model.summary()"
   ]
  },
  {
   "cell_type": "code",
   "execution_count": 11,
   "metadata": {},
   "outputs": [],
   "source": [
    "optimizer=Adam(learning_rate=0.001,beta_1=0.9,beta_2=0.999)\n",
    "model.compile(optimizer=optimizer,loss=['categorical_crossentropy'],metrics=['accuracy'])"
   ]
  },
  {
   "cell_type": "code",
   "execution_count": 12,
   "metadata": {},
   "outputs": [],
   "source": [
    "# Set a learning rate annealer\n",
    "learning_rate_reduction = ReduceLROnPlateau(monitor='val_acc', \n",
    "                                            patience=3, \n",
    "                                            verbose=1, \n",
    "                                            factor=0.5, \n",
    "                                            min_lr=0.00001)"
   ]
  },
  {
   "cell_type": "code",
   "execution_count": 16,
   "metadata": {},
   "outputs": [],
   "source": [
    "epochs=32 #change this to 30 if you need to get better score\n",
    "batch_size=32"
   ]
  },
  {
   "cell_type": "code",
   "execution_count": 17,
   "metadata": {},
   "outputs": [
    {
     "name": "stdout",
     "output_type": "stream",
     "text": [
      "Epoch 1/32\n",
      " - 20s - loss: 0.0945 - accuracy: 0.9737 - val_loss: 0.0263 - val_accuracy: 0.9937\n",
      "Epoch 2/32\n",
      " - 20s - loss: 0.0843 - accuracy: 0.9762 - val_loss: 0.0221 - val_accuracy: 0.9938\n",
      "Epoch 3/32\n",
      " - 21s - loss: 0.0707 - accuracy: 0.9810 - val_loss: 0.0201 - val_accuracy: 0.9945\n",
      "Epoch 4/32\n",
      " - 20s - loss: 0.0726 - accuracy: 0.9798 - val_loss: 0.0184 - val_accuracy: 0.9946\n",
      "Epoch 5/32\n",
      " - 20s - loss: 0.0694 - accuracy: 0.9804 - val_loss: 0.0196 - val_accuracy: 0.9942\n",
      "Epoch 6/32\n",
      " - 21s - loss: 0.0619 - accuracy: 0.9820 - val_loss: 0.0204 - val_accuracy: 0.9942\n",
      "Epoch 7/32\n",
      " - 20s - loss: 0.0602 - accuracy: 0.9827 - val_loss: 0.0238 - val_accuracy: 0.9942\n",
      "Epoch 8/32\n",
      " - 20s - loss: 0.0588 - accuracy: 0.9840 - val_loss: 0.0163 - val_accuracy: 0.9957\n",
      "Epoch 9/32\n",
      " - 21s - loss: 0.0604 - accuracy: 0.9829 - val_loss: 0.0302 - val_accuracy: 0.9931\n",
      "Epoch 10/32\n",
      " - 20s - loss: 0.0592 - accuracy: 0.9837 - val_loss: 0.0177 - val_accuracy: 0.9953\n",
      "Epoch 11/32\n",
      " - 20s - loss: 0.0557 - accuracy: 0.9847 - val_loss: 0.0205 - val_accuracy: 0.9952\n",
      "Epoch 12/32\n",
      " - 21s - loss: 0.0540 - accuracy: 0.9849 - val_loss: 0.0203 - val_accuracy: 0.9942\n",
      "Epoch 13/32\n",
      " - 20s - loss: 0.0541 - accuracy: 0.9850 - val_loss: 0.0133 - val_accuracy: 0.9953\n",
      "Epoch 14/32\n",
      " - 20s - loss: 0.0529 - accuracy: 0.9852 - val_loss: 0.0185 - val_accuracy: 0.9949\n",
      "Epoch 15/32\n",
      " - 21s - loss: 0.0516 - accuracy: 0.9865 - val_loss: 0.0204 - val_accuracy: 0.9947\n",
      "Epoch 16/32\n",
      " - 20s - loss: 0.0493 - accuracy: 0.9866 - val_loss: 0.0197 - val_accuracy: 0.9944\n",
      "Epoch 17/32\n",
      " - 20s - loss: 0.0481 - accuracy: 0.9873 - val_loss: 0.0196 - val_accuracy: 0.9949\n",
      "Epoch 18/32\n",
      " - 21s - loss: 0.0430 - accuracy: 0.9883 - val_loss: 0.0180 - val_accuracy: 0.9964\n",
      "Epoch 19/32\n",
      " - 20s - loss: 0.0443 - accuracy: 0.9876 - val_loss: 0.0149 - val_accuracy: 0.9964\n",
      "Epoch 20/32\n",
      " - 20s - loss: 0.0446 - accuracy: 0.9872 - val_loss: 0.0131 - val_accuracy: 0.9963\n",
      "Epoch 21/32\n",
      " - 21s - loss: 0.0422 - accuracy: 0.9880 - val_loss: 0.0158 - val_accuracy: 0.9960\n",
      "Epoch 22/32\n",
      " - 20s - loss: 0.0483 - accuracy: 0.9868 - val_loss: 0.0128 - val_accuracy: 0.9962\n",
      "Epoch 23/32\n",
      " - 20s - loss: 0.0423 - accuracy: 0.9889 - val_loss: 0.0210 - val_accuracy: 0.9953\n",
      "Epoch 24/32\n",
      " - 21s - loss: 0.0431 - accuracy: 0.9888 - val_loss: 0.0154 - val_accuracy: 0.9971\n",
      "Epoch 25/32\n",
      " - 20s - loss: 0.0410 - accuracy: 0.9885 - val_loss: 0.0148 - val_accuracy: 0.9966\n",
      "Epoch 26/32\n",
      " - 20s - loss: 0.0431 - accuracy: 0.9877 - val_loss: 0.0157 - val_accuracy: 0.9965\n",
      "Epoch 27/32\n",
      " - 21s - loss: 0.0396 - accuracy: 0.9886 - val_loss: 0.0179 - val_accuracy: 0.9958\n",
      "Epoch 28/32\n",
      " - 19s - loss: 0.0405 - accuracy: 0.9886 - val_loss: 0.0150 - val_accuracy: 0.9963\n",
      "Epoch 29/32\n",
      " - 20s - loss: 0.0412 - accuracy: 0.9880 - val_loss: 0.0189 - val_accuracy: 0.9961\n",
      "Epoch 30/32\n",
      " - 21s - loss: 0.0402 - accuracy: 0.9894 - val_loss: 0.0146 - val_accuracy: 0.9964\n",
      "Epoch 31/32\n",
      " - 20s - loss: 0.0403 - accuracy: 0.9887 - val_loss: 0.0163 - val_accuracy: 0.9958\n",
      "Epoch 32/32\n",
      " - 20s - loss: 0.0358 - accuracy: 0.9892 - val_loss: 0.0188 - val_accuracy: 0.9958\n"
     ]
    }
   ],
   "source": [
    "# Fit the model\n",
    "history = model.fit_generator(datagen.flow(X_train,Y_train, batch_size=batch_size),\n",
    "                              epochs = epochs, validation_data = (X_test,Y_test),\n",
    "                              verbose = 2, steps_per_epoch=X_train.shape[0] // batch_size\n",
    "                            )"
   ]
  },
  {
   "cell_type": "code",
   "execution_count": 38,
   "metadata": {},
   "outputs": [
    {
     "data": {
      "text/plain": [
       "Text(0.5, 1.0, 'Accuracy')"
      ]
     },
     "execution_count": 38,
     "metadata": {},
     "output_type": "execute_result"
    },
    {
     "data": {
      "image/png": "[encoded data removed]",
      "text/plain": [
       "<Figure size 1080x360 with 2 Axes>"
      ]
     },
     "metadata": {
      "needs_background": "light"
     },
     "output_type": "display_data"
    }
   ],
   "source": [
    "fig,ax= plt.subplots(1,2, figsize=(15, 5))\n",
    "fig.set\n",
    "x=np.arange(1, epochs+1)\n",
    "\n",
    "ax[0].plot(x,history.history['loss'],color='orange')\n",
    "ax[0].plot(x,history.history['val_loss'],color='blue')\n",
    "ax[1].plot(x,history.history['accuracy'],color='orange')\n",
    "ax[1].plot(x,history.history['val_accuracy'],color='blue')\n",
    "ax[0].legend(['training loss','validation loss'])\n",
    "ax[1].legend(['training acc','validation acc'])\n",
    "ax[0].set_xlabel('Number of epochs')\n",
    "ax[0].set_ylabel('Loss')\n",
    "\n",
    "ax[1].set_xlabel('Number of epochs')\n",
    "ax[1].set_ylabel('Accuracy')\n",
    "\n",
    "ax[0].set_title('Loss', size=19)\n",
    "ax[1].set_title('Accuracy', size=19)"
   ]
  },
  {
   "cell_type": "code",
   "execution_count": 44,
   "metadata": {},
   "outputs": [
    {
     "data": {
      "text/html": [
       "<div>\n",
       "<style scoped>\n",
       "    .dataframe tbody tr th:only-of-type {\n",
       "        vertical-align: middle;\n",
       "    }\n",
       "\n",
       "    .dataframe tbody tr th {\n",
       "        vertical-align: top;\n",
       "    }\n",
       "\n",
       "    .dataframe thead th {\n",
       "        text-align: right;\n",
       "    }\n",
       "</style>\n",
       "<table border=\"1\" class=\"dataframe\">\n",
       "  <thead>\n",
       "    <tr style=\"text-align: right;\">\n",
       "      <th></th>\n",
       "      <th>0</th>\n",
       "      <th>1</th>\n",
       "      <th>2</th>\n",
       "      <th>3</th>\n",
       "      <th>4</th>\n",
       "      <th>5</th>\n",
       "      <th>6</th>\n",
       "      <th>7</th>\n",
       "      <th>8</th>\n",
       "      <th>9</th>\n",
       "    </tr>\n",
       "  </thead>\n",
       "  <tbody>\n",
       "    <tr>\n",
       "      <th>0</th>\n",
       "      <td>1160</td>\n",
       "      <td>8</td>\n",
       "      <td>0</td>\n",
       "      <td>0</td>\n",
       "      <td>0</td>\n",
       "      <td>0</td>\n",
       "      <td>1</td>\n",
       "      <td>0</td>\n",
       "      <td>1</td>\n",
       "      <td>0</td>\n",
       "    </tr>\n",
       "    <tr>\n",
       "      <th>1</th>\n",
       "      <td>3</td>\n",
       "      <td>1182</td>\n",
       "      <td>0</td>\n",
       "      <td>0</td>\n",
       "      <td>0</td>\n",
       "      <td>0</td>\n",
       "      <td>0</td>\n",
       "      <td>0</td>\n",
       "      <td>0</td>\n",
       "      <td>0</td>\n",
       "    </tr>\n",
       "    <tr>\n",
       "      <th>2</th>\n",
       "      <td>1</td>\n",
       "      <td>0</td>\n",
       "      <td>1226</td>\n",
       "      <td>2</td>\n",
       "      <td>0</td>\n",
       "      <td>0</td>\n",
       "      <td>0</td>\n",
       "      <td>0</td>\n",
       "      <td>0</td>\n",
       "      <td>0</td>\n",
       "    </tr>\n",
       "    <tr>\n",
       "      <th>3</th>\n",
       "      <td>0</td>\n",
       "      <td>0</td>\n",
       "      <td>0</td>\n",
       "      <td>1242</td>\n",
       "      <td>1</td>\n",
       "      <td>0</td>\n",
       "      <td>0</td>\n",
       "      <td>0</td>\n",
       "      <td>0</td>\n",
       "      <td>0</td>\n",
       "    </tr>\n",
       "    <tr>\n",
       "      <th>4</th>\n",
       "      <td>0</td>\n",
       "      <td>0</td>\n",
       "      <td>0</td>\n",
       "      <td>0</td>\n",
       "      <td>1197</td>\n",
       "      <td>1</td>\n",
       "      <td>0</td>\n",
       "      <td>0</td>\n",
       "      <td>0</td>\n",
       "      <td>0</td>\n",
       "    </tr>\n",
       "    <tr>\n",
       "      <th>5</th>\n",
       "      <td>0</td>\n",
       "      <td>0</td>\n",
       "      <td>0</td>\n",
       "      <td>0</td>\n",
       "      <td>1</td>\n",
       "      <td>1176</td>\n",
       "      <td>0</td>\n",
       "      <td>0</td>\n",
       "      <td>0</td>\n",
       "      <td>0</td>\n",
       "    </tr>\n",
       "    <tr>\n",
       "      <th>6</th>\n",
       "      <td>0</td>\n",
       "      <td>0</td>\n",
       "      <td>0</td>\n",
       "      <td>0</td>\n",
       "      <td>0</td>\n",
       "      <td>0</td>\n",
       "      <td>1180</td>\n",
       "      <td>1</td>\n",
       "      <td>0</td>\n",
       "      <td>12</td>\n",
       "    </tr>\n",
       "    <tr>\n",
       "      <th>7</th>\n",
       "      <td>0</td>\n",
       "      <td>1</td>\n",
       "      <td>0</td>\n",
       "      <td>2</td>\n",
       "      <td>0</td>\n",
       "      <td>0</td>\n",
       "      <td>10</td>\n",
       "      <td>1149</td>\n",
       "      <td>0</td>\n",
       "      <td>0</td>\n",
       "    </tr>\n",
       "    <tr>\n",
       "      <th>8</th>\n",
       "      <td>0</td>\n",
       "      <td>0</td>\n",
       "      <td>0</td>\n",
       "      <td>0</td>\n",
       "      <td>0</td>\n",
       "      <td>0</td>\n",
       "      <td>0</td>\n",
       "      <td>0</td>\n",
       "      <td>1219</td>\n",
       "      <td>1</td>\n",
       "    </tr>\n",
       "    <tr>\n",
       "      <th>9</th>\n",
       "      <td>1</td>\n",
       "      <td>0</td>\n",
       "      <td>0</td>\n",
       "      <td>0</td>\n",
       "      <td>0</td>\n",
       "      <td>0</td>\n",
       "      <td>3</td>\n",
       "      <td>0</td>\n",
       "      <td>0</td>\n",
       "      <td>1219</td>\n",
       "    </tr>\n",
       "  </tbody>\n",
       "</table>\n",
       "</div>"
      ],
      "text/plain": [
       "      0     1     2     3     4     5     6     7     8     9\n",
       "0  1160     8     0     0     0     0     1     0     1     0\n",
       "1     3  1182     0     0     0     0     0     0     0     0\n",
       "2     1     0  1226     2     0     0     0     0     0     0\n",
       "3     0     0     0  1242     1     0     0     0     0     0\n",
       "4     0     0     0     0  1197     1     0     0     0     0\n",
       "5     0     0     0     0     1  1176     0     0     0     0\n",
       "6     0     0     0     0     0     0  1180     1     0    12\n",
       "7     0     1     0     2     0     0    10  1149     0     0\n",
       "8     0     0     0     0     0     0     0     0  1219     1\n",
       "9     1     0     0     0     0     0     3     0     0  1219"
      ]
     },
     "execution_count": 44,
     "metadata": {},
     "output_type": "execute_result"
    }
   ],
   "source": [
    "import numpy as np\n",
    "\n",
    "y_pre_test=model.predict(X_test)\n",
    "y_pre_test=np.argmax(y_pre_test,axis=1)\n",
    "y_test=np.argmax(Y_test,axis=1)\n",
    "conf=confusion_matrix(y_test,y_pre_test)\n",
    "conf=pd.DataFrame(conf,index=range(0,10),columns=range(0,10))\n",
    "conf"
   ]
  },
  {
   "cell_type": "code",
   "execution_count": 45,
   "metadata": {},
   "outputs": [],
   "source": [
    "y_submit = model.predict(X_submit)\n",
    "y_submit = np.argmax(y_submit, axis=1)"
   ]
  },
  {
   "cell_type": "code",
   "execution_count": 47,
   "metadata": {},
   "outputs": [
    {
     "data": {
      "text/html": [
       "<div>\n",
       "<style scoped>\n",
       "    .dataframe tbody tr th:only-of-type {\n",
       "        vertical-align: middle;\n",
       "    }\n",
       "\n",
       "    .dataframe tbody tr th {\n",
       "        vertical-align: top;\n",
       "    }\n",
       "\n",
       "    .dataframe thead th {\n",
       "        text-align: right;\n",
       "    }\n",
       "</style>\n",
       "<table border=\"1\" class=\"dataframe\">\n",
       "  <thead>\n",
       "    <tr style=\"text-align: right;\">\n",
       "      <th></th>\n",
       "      <th>id</th>\n",
       "      <th>label</th>\n",
       "    </tr>\n",
       "  </thead>\n",
       "  <tbody>\n",
       "    <tr>\n",
       "      <th>0</th>\n",
       "      <td>0</td>\n",
       "      <td>3</td>\n",
       "    </tr>\n",
       "    <tr>\n",
       "      <th>1</th>\n",
       "      <td>1</td>\n",
       "      <td>0</td>\n",
       "    </tr>\n",
       "    <tr>\n",
       "      <th>2</th>\n",
       "      <td>2</td>\n",
       "      <td>2</td>\n",
       "    </tr>\n",
       "    <tr>\n",
       "      <th>3</th>\n",
       "      <td>3</td>\n",
       "      <td>6</td>\n",
       "    </tr>\n",
       "    <tr>\n",
       "      <th>4</th>\n",
       "      <td>4</td>\n",
       "      <td>7</td>\n",
       "    </tr>\n",
       "  </tbody>\n",
       "</table>\n",
       "</div>"
      ],
      "text/plain": [
       "   id  label\n",
       "0   0      3\n",
       "1   1      0\n",
       "2   2      2\n",
       "3   3      6\n",
       "4   4      7"
      ]
     },
     "execution_count": 47,
     "metadata": {},
     "output_type": "execute_result"
    }
   ],
   "source": [
    "submission['label'] = y_submit\n",
    "submission.head()"
   ]
  },
  {
   "cell_type": "code",
   "execution_count": 48,
   "metadata": {},
   "outputs": [],
   "source": [
    "submission.to_csv('submission.csv', index=False)"
   ]
  },
  {
   "cell_type": "code",
   "execution_count": null,
   "metadata": {},
   "outputs": [],
   "source": [
    "from IPython.display import FileLink\n",
    "FileLink('submission.csv')"
   ]
  }
 ],
 "metadata": {
  "kernelspec": {
   "display_name": "Python 3",
   "language": "python",
   "name": "python3"
  },
  "language_info": {
   "codemirror_mode": {
    "name": "ipython",
    "version": 3
   },
   "file_extension": ".py",
   "mimetype": "text/x-python",
   "name": "python",
   "nbconvert_exporter": "python",
   "pygments_lexer": "ipython3",
   "version": "3.6.8"
  }
 },
 "nbformat": 4,
 "nbformat_minor": 4
}
