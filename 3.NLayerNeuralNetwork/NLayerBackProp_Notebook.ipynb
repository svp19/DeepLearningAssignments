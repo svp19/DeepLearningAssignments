{
 "cells": [
  {
   "cell_type": "code",
   "execution_count": 2,
   "metadata": {},
   "outputs": [],
   "source": [
    "import numpy as np\n",
    "from tqdm import tqdm_notebook as tqdm\n",
    "# tqdm().pandas()"
   ]
  },
  {
   "cell_type": "code",
   "execution_count": 3,
   "metadata": {},
   "outputs": [],
   "source": [
    "class Layer():\n",
    "    \n",
    "    def __init__(self, model, f, d_f, input_dims = None, output_dims = None, input_layer=False, output_layer=False, learning_rate=0.001):\n",
    "        \n",
    "        self.model = model\n",
    "        self.input_dims = input_dims\n",
    "        self.output_dims = output_dims\n",
    "        self.learning_rate = learning_rate\n",
    "        \n",
    "        # Parameters\n",
    "        self.a = None\n",
    "        self.z = None\n",
    "        self.W = None\n",
    "        self.b = None\n",
    "        \n",
    "        self.dW = None\n",
    "        self.db = None\n",
    "        self.da = None\n",
    "        self.dz = None\n",
    "        \n",
    "        self.input_layer = input_layer\n",
    "        self.output_layer = output_layer\n",
    "        \n",
    "        # Activation Functions\n",
    "        self.f = f\n",
    "        self.d_f = d_f\n",
    "        \n",
    "        # Adjacent layers set during backpropagation\n",
    "        self.next_layer = None\n",
    "        self.prev_layer = None\n",
    "    \n",
    "    \n",
    "    def random_init(self):\n",
    "        \n",
    "        # Kaiming Weight Initialization\n",
    "        self.W = np.random.randn(self.output_dims, self.input_dims)*np.sqrt(2)/np.sqrt(self.input_dims)\n",
    "        \n",
    "        # Xavier Weight Initialization\n",
    "        B = np.sqrt(6)/np.sqrt(self.input_dims + self.output_dims)\n",
    "        self.W = np.random.uniform(low=-B , high=B ,size=(self.output_dims, self.input_dims))\n",
    "        \n",
    "        self.b = np.zeros(shape=(self.output_dims, 1))\n",
    "      \n",
    "    \n",
    "    def get_prev_a(self):\n",
    "        if self.input_layer:\n",
    "            return self.model.data\n",
    "        return self.prev_layer.a\n",
    "    \n",
    "\n",
    "    def forward_pass(self):\n",
    "        prev_a = self.get_prev_a()\n",
    "        self.z = self.W.dot(prev_a) + self.b\n",
    "        self.a = self.f(self.z)\n",
    "        \n",
    "    \n",
    "    def backpropagate(self):\n",
    "        prev_a = self.get_prev_a()\n",
    "        \n",
    "        if self.output_layer:\n",
    "            delta = self.model.calc_d_J(self.a)\n",
    "        else:\n",
    "            delta = self.next_layer.da\n",
    "            \n",
    "        m = prev_a.shape[1]\n",
    "        \n",
    "        self.dz = delta * self.d_f(self.z)\n",
    "        self.dW = self.dz.dot(prev_a.T)/m\n",
    "        self.db = np.sum(self.dz, axis=1, keepdims=True)\n",
    "        self.da = self.W.T.dot(self.dz)\n",
    "        \n",
    "    def learn(self):\n",
    "        self.W = self.W - self.learning_rate * self.dW\n",
    "        self.b = self.b - self.learning_rate * self.db\n",
    "    "
   ]
  },
  {
   "cell_type": "code",
   "execution_count": 4,
   "metadata": {},
   "outputs": [],
   "source": [
    "class NeuralNetwork():\n",
    "    \n",
    "    def __init__(self, architecture, input_size, cost_function, train_data=None, train_labels=None, learning_rate=0.001):\n",
    "        \n",
    "        self.learning_rate = learning_rate\n",
    "        \n",
    "        # Create Layers\n",
    "        self.layers = self.create_layers(architecture, input_size)\n",
    "        \n",
    "        # Data\n",
    "        self.data = train_data\n",
    "        self.labels = train_labels\n",
    "        \n",
    "        # Cost Function\n",
    "        self.J, self.d_J = cost_functions[cost_function]\n",
    "        \n",
    "    \n",
    "    def calc_J(self, y_hat):\n",
    "        return self.J(self.labels, y_hat)\n",
    "    \n",
    "    \n",
    "    def calc_d_J(self, y_hat):\n",
    "        return self.d_J(self.labels, y_hat)\n",
    "    \n",
    "    \n",
    "    def calc_accuracy(self, test_data, test_labels):\n",
    "        self.data = test_data\n",
    "        self.labels = test_labels\n",
    "        \n",
    "        # Forward Pass and get output\n",
    "        self.forward_pass()\n",
    "        y_hat = self.layers[-1].a\n",
    "        \n",
    "        y_pred = np.where(y_hat > 0.5, 1, 0)\n",
    "        return (y_pred == self.labels).mean()\n",
    "    \n",
    "    def create_layers(self, architecture, input_size):\n",
    "        \n",
    "        layers = []\n",
    "        \n",
    "        for i, config in enumerate(architecture):\n",
    "            input_dims = input_size if i == 0 else layers[-1].output_dims\n",
    "            output_dims = config[\"num_nodes\"]\n",
    "            f, d_f = activation_functions[config[\"activation\"]]\n",
    "            layer = Layer(self, f, d_f, input_dims, output_dims, input_layer=(i==0), output_layer=(i==len(architecture)-1), learning_rate=self.learning_rate)\n",
    "            \n",
    "            if i != 0:\n",
    "                layers[-1].next_layer = layer\n",
    "                layer.prev_layer = layers[-1]\n",
    "            \n",
    "            \n",
    "            layers.append(layer)\n",
    "        \n",
    "        for layer in layers:\n",
    "            layer.random_init()\n",
    "            \n",
    "        return layers\n",
    "    \n",
    "    def add_data(self, train_data, train_labels):\n",
    "        self.data = train_data\n",
    "        self.labels = train_labels\n",
    "        \n",
    "    def forward_pass(self):\n",
    "        for layer in self.layers:            \n",
    "            layer.forward_pass()\n",
    "            \n",
    "    def backward_pass(self):\n",
    "        for layer in reversed(self.layers):\n",
    "            layer.backpropagate()\n",
    "\n",
    "    def learn(self):\n",
    "        for layer in self.layers:\n",
    "            layer.learn()\n",
    "    \n",
    "    def train(self, epochs):\n",
    "        history = []\n",
    "        for i in list(range(epochs)):\n",
    "            self.forward_pass()\n",
    "            cost = self.calc_J(self.layers[-1].a)\n",
    "            history.append(cost)\n",
    "            if i % 50 == 0:\n",
    "                print (\"Cost after iteration %i: %f\" %(i, cost))        \n",
    "            self.backward_pass()\n",
    "            self.learn()\n",
    "        \n",
    "        # Training done. Return history\n",
    "        return history\n"
   ]
  },
  {
   "cell_type": "code",
   "execution_count": 5,
   "metadata": {},
   "outputs": [],
   "source": [
    "# COST FUNCTIONS\n",
    "\n",
    "def cross_entropy_sigmoid(y, y_hat):\n",
    "    m = y.shape[1]\n",
    "    cost = (1./m) * (-np.dot(y,np.log(y_hat).T) - np.dot(1-y, np.log(1-y_hat).T))\n",
    "    cost = np.squeeze(cost)\n",
    "    return cost\n",
    "\n",
    "\n",
    "def cross_entropy_sigmoid_derivative(y, y_hat):\n",
    "    m = y.shape[1]\n",
    "    return (-(np.divide(y, y_hat) - np.divide(1 - y, 1 - y_hat)))\n",
    "\n",
    "\n",
    "def mean_squared(y, y_hat):\n",
    "    return  np.sum((y - y_hat)**2 ).squeeze() / (y_hat.shape[1]*2)\n",
    "\n",
    "def d_mean_squared(y, y_hat):\n",
    "    return (y_hat - y)\n",
    "\n",
    "\n",
    "cost_functions = {\"cross_entropy_sigmoid\" : (cross_entropy_sigmoid, cross_entropy_sigmoid_derivative),\n",
    "                  \"mean_squared\" : (mean_squared, d_mean_squared)\n",
    "                 }"
   ]
  },
  {
   "cell_type": "code",
   "execution_count": 6,
   "metadata": {},
   "outputs": [],
   "source": [
    "# ACTIVATION FUNCTIONS\n",
    "\n",
    "import numpy as np\n",
    "\n",
    "def sigmoid(x):\n",
    "    s = 1/(1+np.exp(-x))\n",
    "    return s\n",
    "\n",
    "def d_sigmoid(x):\n",
    "    s = sigmoid(x)\n",
    "    return s*(1-s)\n",
    "\n",
    "def relu(x):\n",
    "    return np.maximum(0,x)\n",
    "\n",
    "def d_relu(x):\n",
    "    r = np.where(x > 0, 1, 0)\n",
    "    return r\n",
    "\n",
    "def tanh(x):\n",
    "    return np.tanh(x)\n",
    "\n",
    "def d_tanh(x):\n",
    "    d = tanh(x)\n",
    "    return 1 - d*d\n",
    "\n",
    "\n",
    "activation_functions = {\"sigmoid\" : (sigmoid, d_sigmoid) , \"relu\" : (relu, d_relu), \"tanh\" : (tanh, d_tanh)}"
   ]
  },
  {
   "cell_type": "markdown",
   "metadata": {},
   "source": [
    "# Application on Cancer Dataset"
   ]
  },
  {
   "cell_type": "code",
   "execution_count": 7,
   "metadata": {},
   "outputs": [],
   "source": [
    "import matplotlib.pyplot as plt\n",
    "from sklearn.model_selection import train_test_split\n",
    "from sklearn.datasets import load_breast_cancer\n",
    "import tqdm"
   ]
  },
  {
   "cell_type": "code",
   "execution_count": 8,
   "metadata": {},
   "outputs": [],
   "source": [
    "X, y = load_breast_cancer(return_X_y=True)\n",
    "y = y.reshape((len(y), 1))\n",
    "\n",
    "# Split Data\n",
    "train_X, test_X, train_y, test_y = train_test_split(X, y, test_size=0.2)\n",
    "train_X = train_X.T\n",
    "test_X = test_X.T\n",
    "\n",
    "# Normalize\n",
    "mean = np.mean(train_X, axis = 1, keepdims=True)\n",
    "std_dev = np.std(train_X, axis = 1, keepdims=True)\n",
    "train_X = (train_X - mean)/std_dev\n",
    "test_X = (test_X - mean)/std_dev\n",
    "\n",
    "train_y = train_y.T\n",
    "test_y = test_y.T\n"
   ]
  },
  {
   "cell_type": "code",
   "execution_count": 9,
   "metadata": {},
   "outputs": [
    {
     "data": {
      "text/plain": [
       "((30, 455), (1, 455), (30, 114), (1, 114))"
      ]
     },
     "execution_count": 9,
     "metadata": {},
     "output_type": "execute_result"
    }
   ],
   "source": [
    "train_X.shape, train_y.shape, test_X.shape, test_y.shape"
   ]
  },
  {
   "cell_type": "code",
   "execution_count": 12,
   "metadata": {},
   "outputs": [
    {
     "name": "stdout",
     "output_type": "stream",
     "text": [
      "Cost after iteration 0: 0.736730\n",
      "Cost after iteration 50: 0.681218\n",
      "Cost after iteration 100: 0.674499\n",
      "Cost after iteration 150: 0.667865\n",
      "Cost after iteration 200: 0.661389\n",
      "Cost after iteration 250: 0.655133\n",
      "Cost after iteration 300: 0.649133\n",
      "Cost after iteration 350: 0.643402\n",
      "Cost after iteration 400: 0.637931\n",
      "Cost after iteration 450: 0.632698\n",
      "Cost after iteration 500: 0.627680\n",
      "Cost after iteration 550: 0.622850\n",
      "Cost after iteration 600: 0.618185\n",
      "Cost after iteration 650: 0.613665\n",
      "Cost after iteration 700: 0.609273\n",
      "Cost after iteration 750: 0.604994\n",
      "Cost after iteration 800: 0.600817\n",
      "Cost after iteration 850: 0.596734\n",
      "Cost after iteration 900: 0.592737\n",
      "Cost after iteration 950: 0.588820\n"
     ]
    },
    {
     "data": {
      "text/plain": [
       "[<matplotlib.lines.Line2D at 0x7f04cdb544a8>]"
      ]
     },
     "execution_count": 12,
     "metadata": {},
     "output_type": "execute_result"
    },
    {
     "data": {
      "image/png": "[encoded data removed]",
      "text/plain": [
       "<Figure size 432x288 with 1 Axes>"
      ]
     },
     "metadata": {
      "needs_background": "light"
     },
     "output_type": "display_data"
    }
   ],
   "source": [
    "description = [{\"num_nodes\" : 100, \"activation\" : \"sigmoid\"},\n",
    "               {\"num_nodes\" : 50, \"activation\" : \"sigmoid\"},\n",
    "               {\"num_nodes\" : 1, \"activation\" : \"sigmoid\"}]\n",
    "\n",
    "model = NeuralNetwork(description,30,\"cross_entropy_sigmoid\", train_X, train_y, learning_rate=0.001)\n",
    "\n",
    "history = model.train(1000)\n",
    "\n",
    "plt.plot(history)"
   ]
  },
  {
   "cell_type": "code",
   "execution_count": 13,
   "metadata": {},
   "outputs": [
    {
     "name": "stdout",
     "output_type": "stream",
     "text": [
      "Accuracy of the model on the training set is = 0.643956043956044\n",
      "Accuracy of the model on the test set is = 0.5877192982456141\n"
     ]
    }
   ],
   "source": [
    "acc = model.calc_accuracy(train_X, train_y)\n",
    "print(\"Accuracy of the model on the training set is = {}\".format(acc))\n",
    "\n",
    "acc = model.calc_accuracy(test_X, test_y)\n",
    "print(\"Accuracy of the model on the test set is = {}\".format(acc))"
   ]
  },
  {
   "cell_type": "code",
   "execution_count": null,
   "metadata": {},
   "outputs": [],
   "source": []
  }
 ],
 "metadata": {
  "kernelspec": {
   "display_name": "Python 3",
   "language": "python",
   "name": "python3"
  },
  "language_info": {
   "codemirror_mode": {
    "name": "ipython",
    "version": 3
   },
   "file_extension": ".py",
   "mimetype": "text/x-python",
   "name": "python",
   "nbconvert_exporter": "python",
   "pygments_lexer": "ipython3",
   "version": "3.6.8"
  }
 },
 "nbformat": 4,
 "nbformat_minor": 2
}
