{
 "cells": [
  {
   "cell_type": "code",
   "execution_count": 2,
   "metadata": {},
   "outputs": [],
   "source": [
    "import numpy as np\n",
    "\n",
    "class Perceptron():\n",
    "\n",
    "    def __init__(self, X, Y):\n",
    "        # Append bias to input X\n",
    "        bias = 1 * np.ones((X.shape[0], 1))\n",
    "        self.X = np.append(bias, X, axis=1)\n",
    "        self.Y = Y\n",
    "        self.w = np.random.random((1, self.X.shape[1]))\n",
    "    \n",
    "    def weighted_sum(self, x):\n",
    "        return np.dot(self.w, x)\n",
    "    \n",
    "    def unit_step(self, x):\n",
    "        if x < 0:\n",
    "            return 0\n",
    "        return 1\n",
    "    \n",
    "    \n",
    "    def train(self, eta=0.5, epochs=10, method=\"pll\"):\n",
    "        \n",
    "        for e in range(epochs):\n",
    "            \n",
    "            error = 0\n",
    "            input_order = np.random.permutation(self.X.shape[0])\n",
    "            for i in input_order:\n",
    "                \n",
    "                x = self.X[i]\n",
    "                output = self.unit_step(self.weighted_sum(x))\n",
    "                \n",
    "                # Perceptron Learning Law\n",
    "                if method == \"pll\":\n",
    "                    if output <= 0 and self.Y[i] == 1:\n",
    "                        error += 1\n",
    "                        self.w = self.w + eta * x\n",
    "\n",
    "                    elif output > 0 and self.Y[i] == 0:\n",
    "                        error += 1\n",
    "                        self.w = self.w - eta * x\n",
    "                \n",
    "                # Gradient Descent\n",
    "                if method == \"gd\":\n",
    "                    error += np.abs(self.Y[i] - output)\n",
    "                    self.w = self.w + eta * (self.Y[i] - output) * x \n",
    "                    \n",
    "\n",
    "            print(f\"Epoch: {e}, Error: {error}, updated_Weights: {self.w}\")\n"
   ]
  },
  {
   "cell_type": "code",
   "execution_count": 3,
   "metadata": {},
   "outputs": [],
   "source": [
    "X = np.array([\n",
    "    [0, 0], \n",
    "    [0, 1],\n",
    "    [1, 0],\n",
    "    [1, 1]    \n",
    "])"
   ]
  },
  {
   "cell_type": "code",
   "execution_count": 4,
   "metadata": {},
   "outputs": [],
   "source": [
    "Y = np.array([0, 1, 1, 1])"
   ]
  },
  {
   "cell_type": "code",
   "execution_count": 5,
   "metadata": {},
   "outputs": [],
   "source": [
    "p = Perceptron(X, Y)"
   ]
  },
  {
   "cell_type": "code",
   "execution_count": 6,
   "metadata": {},
   "outputs": [
    {
     "name": "stdout",
     "output_type": "stream",
     "text": [
      "Epoch: 0, Error: 1, updated_Weights: [[0.03172118 0.05803206 0.64076863]]\n",
      "Epoch: 1, Error: 1, updated_Weights: [[-0.46827882  0.05803206  0.64076863]]\n",
      "Epoch: 2, Error: 1, updated_Weights: [[0.03172118 0.55803206 0.64076863]]\n",
      "Epoch: 3, Error: 1, updated_Weights: [[-0.46827882  0.55803206  0.64076863]]\n",
      "Epoch: 4, Error: 0, updated_Weights: [[-0.46827882  0.55803206  0.64076863]]\n",
      "Epoch: 5, Error: 0, updated_Weights: [[-0.46827882  0.55803206  0.64076863]]\n",
      "Epoch: 6, Error: 0, updated_Weights: [[-0.46827882  0.55803206  0.64076863]]\n",
      "Epoch: 7, Error: 0, updated_Weights: [[-0.46827882  0.55803206  0.64076863]]\n",
      "Epoch: 8, Error: 0, updated_Weights: [[-0.46827882  0.55803206  0.64076863]]\n",
      "Epoch: 9, Error: 0, updated_Weights: [[-0.46827882  0.55803206  0.64076863]]\n"
     ]
    }
   ],
   "source": [
    "p.train(method=\"gd\")"
   ]
  },
  {
   "cell_type": "code",
   "execution_count": null,
   "metadata": {},
   "outputs": [],
   "source": []
  }
 ],
 "metadata": {
  "kernelspec": {
   "display_name": "Python 3",
   "language": "python",
   "name": "python3"
  },
  "language_info": {
   "codemirror_mode": {
    "name": "ipython",
    "version": 3
   },
   "file_extension": ".py",
   "mimetype": "text/x-python",
   "name": "python",
   "nbconvert_exporter": "python",
   "pygments_lexer": "ipython3",
   "version": "3.6.8"
  }
 },
 "nbformat": 4,
 "nbformat_minor": 2
}
